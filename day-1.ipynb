{
 "cells": [
  {
   "cell_type": "markdown",
   "id": "1183eb6a",
   "metadata": {},
   "source": [
    "# Simple End-to-End Data Engineering\n",
    "\n",
    "Materi ini adalah bagian dari Free Live Course oleh **Sekolah Data Engineering by PACMANN**\n",
    "\n",
    "#### Background\n",
    "\n",
    "- Anda adalah data engineer di perusahaan importir handphone yang melakukan manajemen invoice pemesanan dengan sistem informasi jadul berbasis web.\n",
    "\n",
    "- Tim Business Intelligence mengalami kesulitan untuk menganalisis performa perusahaan karena pengambilan data secara manual.\n",
    "\n",
    "- Anda akan membuat data pipeline end-to-end untuk menyelesaikan masalah tersebut\n",
    "\n",
    "### Day 1: Data Pipeline & Web Scraping\n",
    "#### Goal\n",
    "- Ingest semua invoice beserta detailnya menggunakan web scraping\n",
    "- Transform format data sesuai desain yang diberikan\n",
    "- Store data ke dalam SQLite"
   ]
  },
  {
   "cell_type": "markdown",
   "id": "457c989f",
   "metadata": {},
   "source": [
    "# Ingesting Data"
   ]
  },
  {
   "cell_type": "code",
   "execution_count": null,
   "id": "ed6f4258",
   "metadata": {},
   "outputs": [],
   "source": [
    "import requests\n",
    "from bs4 import BeautifulSoup as bs"
   ]
  },
  {
   "cell_type": "markdown",
   "id": "46c1dc19",
   "metadata": {},
   "source": [
    "## Get invoice detail"
   ]
  },
  {
   "cell_type": "code",
   "execution_count": null,
   "id": "ed28adba",
   "metadata": {},
   "outputs": [],
   "source": [
    "def get_invoice_detail(invoice_id):\n",
    "    url = f'https://invoice-scraping.demo.pacmann.ai/invoice/{invoice_id}'\n",
    "    page = requests.get(url).text\n",
    "    soup = bs(page)\n",
    "    rows = soup.find('tbody').find_all('tr')\n",
    "    result = []\n",
    "    for row in rows:\n",
    "        x = row.getText()\n",
    "        brand = row.find('td', class_='brand').getText()\n",
    "        type_ = row.find('td', class_='type').getText()\n",
    "        price = row.find('td', class_='price').getText()\n",
    "        quantity = row.find('td', class_='quantity').getText()\n",
    "        data = {\n",
    "            'brand': brand,\n",
    "            'type': type_,\n",
    "            'price': int(price.split('.')[0]),\n",
    "            'quantity': quantity\n",
    "        }\n",
    "        result.append(data)\n",
    "    return result"
   ]
  },
  {
   "cell_type": "markdown",
   "id": "5638da9a",
   "metadata": {},
   "source": [
    "## Get invoice overview "
   ]
  },
  {
   "cell_type": "code",
   "execution_count": null,
   "id": "a576e845",
   "metadata": {},
   "outputs": [],
   "source": [
    "def get_invoice_overview(row):\n",
    "    invoice_id = row.find('a').getText()\n",
    "    invoice_detail_url = row.find('a')['href']\n",
    "    invoice_date = row.find('td', class_='invoice_date').getText()\n",
    "    country_of_origin = row.find('td', class_='country_of_origin').getText()\n",
    "    seller = row.find('td', class_='seller').getText()\n",
    "    distribution_area = row.find('td', class_='distribution_area').getText()\n",
    "    total_price = row.find('td', class_='total_price').getText()\n",
    "    \n",
    "    # get invoice detail\n",
    "    invoice_detail = get_invoice_detail(invoice_id)\n",
    "\n",
    "    row_data = {\n",
    "        'invoice_id': int(invoice_id),\n",
    "        'invoice_detail_url': invoice_detail_url,\n",
    "        'invoice_date': invoice_date,\n",
    "        'country_of_origin': country_of_origin,\n",
    "        'seller': seller,\n",
    "        'distribution_area': distribution_area,\n",
    "        'total_price': int(total_price.split('.')[0]),\n",
    "        'detail': invoice_detail\n",
    "    }\n",
    "    return row_data"
   ]
  },
  {
   "cell_type": "markdown",
   "id": "bc4a85a9",
   "metadata": {},
   "source": [
    "# Extract all invoices on a page"
   ]
  },
  {
   "cell_type": "code",
   "execution_count": null,
   "id": "a71d7aaa",
   "metadata": {},
   "outputs": [],
   "source": [
    "def get_all_invoice(url):\n",
    "    page = requests.get(url).text\n",
    "    soup = bs(page)\n",
    "    rows = soup.find('tbody').find_all('tr')\n",
    "    result = []\n",
    "    for row in rows:\n",
    "        x = get_invoice_overview(row)\n",
    "        result.append(x)\n",
    "    return result"
   ]
  },
  {
   "cell_type": "markdown",
   "id": "c86f4850",
   "metadata": {},
   "source": [
    "## Extract all pages"
   ]
  },
  {
   "cell_type": "code",
   "execution_count": 2,
   "id": "de44dcba",
   "metadata": {},
   "outputs": [
    {
     "data": {
      "text/plain": [
       "[39, 78, 117, 156, 195, 234, 273, 312, 351, 390]"
      ]
     },
     "execution_count": 2,
     "metadata": {},
     "output_type": "execute_result"
    }
   ],
   "source": [
    "start = 0\n",
    "last_ids = []\n",
    "for i in range(11):\n",
    "    if start > 0:\n",
    "        last_ids.append(start)\n",
    "    start += 39\n",
    "last_ids"
   ]
  },
  {
   "cell_type": "code",
   "execution_count": null,
   "id": "d02bc7d3",
   "metadata": {},
   "outputs": [],
   "source": [
    "invoice_data = []\n",
    "url = 'https://invoice-scraping.demo.pacmann.ai/'\n",
    "print(url)\n",
    "invoice_data += get_all_invoice(url)\n",
    "for last_id in last_ids:\n",
    "    url_next_page = f'https://invoice-scraping.demo.pacmann.ai/nextpage/{last_id}'\n",
    "    print(url_next_page)\n",
    "    invoice_data += get_all_invoice(url_next_page)"
   ]
  },
  {
   "cell_type": "markdown",
   "id": "162a7194",
   "metadata": {},
   "source": [
    "# Storing Data"
   ]
  },
  {
   "cell_type": "code",
   "execution_count": null,
   "id": "72925d61",
   "metadata": {},
   "outputs": [],
   "source": [
    "# import & connect\n",
    "import sqlite3\n",
    "con = sqlite3.connect(\"invoice.db\")\n",
    "cur = con.cursor()"
   ]
  },
  {
   "cell_type": "markdown",
   "id": "b303eb26",
   "metadata": {},
   "source": [
    "## create invoice master table"
   ]
  },
  {
   "cell_type": "code",
   "execution_count": null,
   "id": "9e51b954",
   "metadata": {},
   "outputs": [],
   "source": [
    "# create table\n",
    "cur.execute(\"\"\"\n",
    "CREATE TABLE IF NOT EXISTS invoice(\n",
    "    invoice_id\t\t\tint,\n",
    "    invoice_date\t\t\ttext,\n",
    "    country_of_origin\ttext,\n",
    "    seller\t\t\t\ttext,\n",
    "    distribution_area \ttext,\n",
    "    total_price\t\t\tint\n",
    ");\n",
    "\"\"\")"
   ]
  },
  {
   "cell_type": "markdown",
   "id": "48e5bae9",
   "metadata": {},
   "source": [
    "### transform data into specified structure"
   ]
  },
  {
   "cell_type": "code",
   "execution_count": null,
   "id": "f5a09571",
   "metadata": {},
   "outputs": [],
   "source": [
    "invoice_master_data = []\n",
    "for row in invoice_data:\n",
    "    invoice_id = row['invoice_id']\n",
    "    invoice_date = row['invoice_date']\n",
    "    country_of_origin = row['country_of_origin']\n",
    "    seller = row['seller']\n",
    "    distribution_area = row['distribution_area']\n",
    "    total_price = row['total_price']\n",
    "    tmp = (invoice_id, invoice_date,\n",
    "           country_of_origin, seller,\n",
    "           distribution_area, total_price)\n",
    "    invoice_master_data.append(tmp)\n",
    "# invoice_master_data"
   ]
  },
  {
   "cell_type": "code",
   "execution_count": null,
   "id": "2e2e42b8",
   "metadata": {},
   "outputs": [],
   "source": [
    "# insert data\n",
    "cur.executemany(\n",
    "    \"INSERT INTO invoice VALUES(?, ?, ?, ?, ?, ?)\",\n",
    "    invoice_master_data\n",
    ")\n",
    "con.commit()"
   ]
  },
  {
   "cell_type": "code",
   "execution_count": null,
   "id": "1cc2d2b4",
   "metadata": {},
   "outputs": [],
   "source": [
    "# fetch data\n",
    "data = cur.execute(\"\"\"\n",
    "    SELECT *\n",
    "    FROM invoice\n",
    "    ORDER BY total_price DESC\n",
    "    LIMIT 2\n",
    "\"\"\").fetchall()\n",
    "for d in data:\n",
    "    print(d)"
   ]
  },
  {
   "cell_type": "markdown",
   "id": "1ea075cb",
   "metadata": {},
   "source": [
    "## create table invoice_product"
   ]
  },
  {
   "cell_type": "code",
   "execution_count": null,
   "id": "eb7f1cdd",
   "metadata": {},
   "outputs": [],
   "source": [
    "# create table\n",
    "cur.execute(\"\"\"\n",
    "CREATE TABLE IF NOT EXISTS invoice_product (\n",
    "\tinvoice_id \tint,\n",
    "\tbrand \t\ttext,\n",
    "\ttype \t\ttext,\n",
    "\tprice \t\tint,\n",
    "\tquantity \tint\n",
    ");\n",
    "\"\"\")"
   ]
  },
  {
   "cell_type": "markdown",
   "id": "476a6a6f",
   "metadata": {},
   "source": [
    "### transform data into specified structure"
   ]
  },
  {
   "cell_type": "code",
   "execution_count": null,
   "id": "4c8a5c98",
   "metadata": {},
   "outputs": [],
   "source": [
    "invoice_detail_data = []\n",
    "invoice_product = []\n",
    "for row in invoice_data:\n",
    "    detail = row['detail']\n",
    "    for d in detail:\n",
    "        invoice_id = row['invoice_id']\n",
    "        brand = d['brand']\n",
    "        type_ = d['type']\n",
    "        price = d['price']\n",
    "        quantity = int(d['quantity'])\n",
    "        tmp = (invoice_id, brand, type_, price, quantity)\n",
    "        invoice_detail_data.append(tmp)\n",
    "invoice_detail_data[0]"
   ]
  },
  {
   "cell_type": "code",
   "execution_count": null,
   "id": "e7ad745f",
   "metadata": {},
   "outputs": [],
   "source": [
    "# insert data\n",
    "cur.executemany(\n",
    "    \"INSERT INTO invoice_product VALUES(?, ?, ?, ?, ?)\",\n",
    "    invoice_detail_data\n",
    ")\n",
    "con.commit()"
   ]
  },
  {
   "cell_type": "code",
   "execution_count": null,
   "id": "9628bb22",
   "metadata": {},
   "outputs": [],
   "source": [
    "# fetch data\n",
    "data = cur.execute(\"\"\"\n",
    "    SELECT brand, sum(quantity) total_quantity\n",
    "    FROM invoice_product\n",
    "    GROUP BY brand\n",
    "    ORDER BY total_quantity DESC\n",
    "    LIMIT 2\n",
    "\"\"\").fetchall()\n",
    "for d in data:\n",
    "    print(d)"
   ]
  },
  {
   "cell_type": "markdown",
   "id": "d93fbd2c",
   "metadata": {},
   "source": [
    "*All rights reserved*"
   ]
  }
 ],
 "metadata": {
  "kernelspec": {
   "display_name": "Python 3",
   "language": "python",
   "name": "python3"
  },
  "language_info": {
   "codemirror_mode": {
    "name": "ipython",
    "version": 3
   },
   "file_extension": ".py",
   "mimetype": "text/x-python",
   "name": "python",
   "nbconvert_exporter": "python",
   "pygments_lexer": "ipython3",
   "version": "3.8.10"
  }
 },
 "nbformat": 4,
 "nbformat_minor": 5
}
